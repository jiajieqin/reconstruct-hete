{
 "cells": [
  {
   "cell_type": "code",
   "execution_count": 1,
   "id": "75fa06aa-5319-4711-a217-9780eaeb2cef",
   "metadata": {
    "execution": {
     "iopub.execute_input": "2024-10-16T11:49:23.336449Z",
     "iopub.status.busy": "2024-10-16T11:49:23.335922Z",
     "iopub.status.idle": "2024-10-16T11:49:24.410539Z",
     "shell.execute_reply": "2024-10-16T11:49:24.409602Z",
     "shell.execute_reply.started": "2024-10-16T11:49:23.336404Z"
    }
   },
   "outputs": [
    {
     "data": {
      "text/plain": [
       "<module 'main_function' from '/home/qinjiajie/jupyter_code/AUC_upload/main_function.py'>"
      ]
     },
     "execution_count": 1,
     "metadata": {},
     "output_type": "execute_result"
    }
   ],
   "source": [
    "import os\n",
    "import gzip\n",
    "from scipy import stats\n",
    "import numpy as np\n",
    "from multiprocessing import Pool\n",
    "from tqdm import tqdm\n",
    "import networkx as nx\n",
    "from sklearn.metrics import roc_curve, auc, f1_score\n",
    "import pandas as pd\n",
    "import matplotlib.pyplot as plt\n",
    "import scienceplots\n",
    "import requests\n",
    "import pickle\n",
    "import powerlaw\n",
    "import gc\n",
    "import math\n",
    "import random\n",
    "import sys\n",
    "\n",
    "from main_function import *\n",
    "import main_function\n",
    "from importlib import reload\n",
    "reload(main_function)"
   ]
  },
  {
   "cell_type": "markdown",
   "id": "d66d15b3-2476-4320-8af6-a0cf25b29137",
   "metadata": {},
   "source": [
    "# n=3000, L=4500 as an example"
   ]
  },
  {
   "cell_type": "code",
   "execution_count": null,
   "id": "3424bea2-dabb-4da0-a865-26ca46f4be49",
   "metadata": {},
   "outputs": [],
   "source": [
    "nodes = 3000\n",
    "md = 3\n",
    "\n",
    "ga_inde = np.array(list(range(160, 260, 20))) / 100\n",
    "\n",
    "ground_truth = dict()\n",
    "\n",
    "for k in range(50):\n",
    "    z=0\n",
    "    gg = dict()\n",
    "    for ga in ga_inde:\n",
    "        uu = generate_ground_nograph(nodes, ga,md,z)\n",
    "        G_temp  = uu[0]\n",
    "        z = uu[1]\n",
    "        gg['%s' %ga] = G_temp\n",
    "        print('gamma=%s 已完成' % ga)\n",
    "    ground_truth['%s' % k] = gg\n",
    "\n",
    "\n",
    "ga_inde = np.array(list(range(170, 270, 20))) / 100\n",
    "\n",
    "for k in range(50,100,1):\n",
    "    z=0\n",
    "    gg = dict()\n",
    "    for ga in ga_inde:\n",
    "        uu = generate_ground_nograph(nodes, ga,md,z)\n",
    "        G_temp  = uu[0]\n",
    "        z = uu[1]\n",
    "        gg['%s' %ga] = G_temp\n",
    "        print('gamma=%s 已完成' % ga)\n",
    "    ground_truth['%s' % k] = gg"
   ]
  },
  {
   "cell_type": "code",
   "execution_count": null,
   "id": "8eaa0e5c-ff8d-48b0-b6a4-1fb061be0327",
   "metadata": {},
   "outputs": [],
   "source": [
    "ga1 = 0\n",
    "he1 = 0\n",
    "for i in list(ground_truth.keys())[:50]:\n",
    "    ga1 = ga1 + np.array(estimate_gamma(ground_truth[i]))\n",
    "    he1 = he1 + np.array(degree_heterogeneity(ground_truth[i]))\n",
    "\n",
    "\n",
    "ga2 = 0\n",
    "he2 = 0\n",
    "for i in list(ground_truth.keys())[50:]:\n",
    "    ga2 = ga2 + np.array(estimate_gamma(ground_truth[i]))\n",
    "    he2 = he2 + np.array(degree_heterogeneity(ground_truth[i]))"
   ]
  },
  {
   "cell_type": "code",
   "execution_count": null,
   "id": "bfc8b3da-b629-4402-b0c2-bab6475fd474",
   "metadata": {},
   "outputs": [],
   "source": [
    "file_path = './result_set/hete_with_gamma/3000_3.pkl'\n",
    "    \n",
    "with open(file_path, 'wb') as f:\n",
    "    pickle.dump(ground_truth, f)"
   ]
  },
  {
   "cell_type": "code",
   "execution_count": null,
   "id": "44ed1f75-4f3e-432b-8345-c28f0d49bbdb",
   "metadata": {},
   "outputs": [],
   "source": [
    "ga = np.append(ga1/50,ga2/50)\n",
    "hete = np.append(he1/50,he2/50)\n",
    "np.savez('./index_set/hete_with_gamma/gamma_hete_3000_3',ga,hete)"
   ]
  }
 ],
 "metadata": {
  "kernelspec": {
   "display_name": "Python 3 (ipykernel)",
   "language": "python",
   "name": "python3"
  },
  "language_info": {
   "codemirror_mode": {
    "name": "ipython",
    "version": 3
   },
   "file_extension": ".py",
   "mimetype": "text/x-python",
   "name": "python",
   "nbconvert_exporter": "python",
   "pygments_lexer": "ipython3",
   "version": "3.11.8"
  }
 },
 "nbformat": 4,
 "nbformat_minor": 5
}
