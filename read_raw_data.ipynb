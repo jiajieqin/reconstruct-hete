{
 "cells": [
  {
   "cell_type": "code",
   "execution_count": 1,
   "id": "b45090ea-875f-4911-aba0-1f285386031b",
   "metadata": {
    "execution": {
     "iopub.execute_input": "2024-10-16T11:18:27.720528Z",
     "iopub.status.busy": "2024-10-16T11:18:27.720063Z",
     "iopub.status.idle": "2024-10-16T11:18:28.840444Z",
     "shell.execute_reply": "2024-10-16T11:18:28.839750Z",
     "shell.execute_reply.started": "2024-10-16T11:18:27.720486Z"
    }
   },
   "outputs": [
    {
     "data": {
      "text/plain": [
       "<module 'main_function' from '/home/qinjiajie/jupyter_code/AUC_upload/main_function.py'>"
      ]
     },
     "execution_count": 1,
     "metadata": {},
     "output_type": "execute_result"
    }
   ],
   "source": [
    "import os\n",
    "import gzip\n",
    "from scipy import stats\n",
    "import numpy as np\n",
    "from multiprocessing import Pool\n",
    "from tqdm import tqdm\n",
    "import networkx as nx\n",
    "from sklearn.metrics import roc_curve, auc, f1_score\n",
    "import pandas as pd\n",
    "import matplotlib.pyplot as plt\n",
    "import scienceplots\n",
    "import requests\n",
    "import pickle\n",
    "import powerlaw\n",
    "import gc\n",
    "import math\n",
    "import random\n",
    "import sys\n",
    "\n",
    "from main_function import *\n",
    "import main_function\n",
    "from importlib import reload\n",
    "reload(main_function)"
   ]
  },
  {
   "cell_type": "markdown",
   "id": "f57f4b91-38e2-4a2e-b1ae-57c137d2960f",
   "metadata": {},
   "source": [
    "# n=3000, L=4500 as an example"
   ]
  },
  {
   "cell_type": "code",
   "execution_count": null,
   "id": "3465c610-9073-480d-85e7-d04b2e93a5ee",
   "metadata": {},
   "outputs": [],
   "source": [
    "directory = './result_set/nodes_3000_3/'\n",
    "fileType= '.pkl'\n",
    "fileList = SearchFiles(directory, fileType)\n",
    "index = dict()\n",
    "index_error = dict()\n",
    "ground_truth = dict()\n",
    "\n",
    "for mk in fileList:\n",
    "    file_path = '.result_set/nodes_3000_3/%s.pkl' % mk\n",
    "    with open(file_path, 'rb') as f:\n",
    "        a = pickle.load(f)\n",
    "    ground_truth[mk] = a['structure']\n",
    "    index[mk] = calculate_all_index(a['result'][2])\n",
    "    index_error[mk] = calculate_reconstruction_error(a['structure'],a['result'])\n",
    "    # del a\n",
    "    # gc.collect()"
   ]
  },
  {
   "cell_type": "code",
   "execution_count": null,
   "id": "f3f6061a-ff8f-44af-ae5b-f73cd67f0342",
   "metadata": {},
   "outputs": [],
   "source": [
    "file_path = './index_set/nodes_3000_3/%s.pkl' % 'index_error'\n",
    "    \n",
    "with open(file_path, 'wb') as f:\n",
    "    pickle.dump(index_error_8, f)\n",
    "\n",
    "file_path = './index_set/nodes_3000_3/%s.pkl' % 'index'\n",
    "    \n",
    "with open(file_path, 'wb') as f:\n",
    "    pickle.dump(index_error_8, f)\n",
    "\n",
    "file_path = './index_set/nodes_3000_3/%s.pkl' % 'ground_truth'\n",
    "    \n",
    "with open(file_path, 'wb') as f:\n",
    "    pickle.dump(index_error_8, f)"
   ]
  },
  {
   "cell_type": "markdown",
   "id": "dc965fc1-65ac-4955-a17e-9ea39f3e32ff",
   "metadata": {},
   "source": [
    "Repeat the above to get the index set of nodes_3000_8 and nodes_4000_3"
   ]
  },
  {
   "cell_type": "markdown",
   "id": "a6a49a8f-6bce-43a1-bddf-417a9273b460",
   "metadata": {},
   "source": [
    "# repeating 100 times to get the ratio of accurate inference"
   ]
  },
  {
   "cell_type": "code",
   "execution_count": null,
   "id": "34fbc232-3c99-4e8a-adc6-135d566a3a8a",
   "metadata": {},
   "outputs": [],
   "source": [
    "directory = './result_set/nodes_3000_8_repeat_100/'\n",
    "fileType= '.pkl'\n",
    "fileList = SearchFiles(directory, fileType)\n",
    "# fileList.remove('ground_truth')\n",
    "print(fileList)"
   ]
  },
  {
   "cell_type": "code",
   "execution_count": null,
   "id": "3fc08f59-385c-4f56-90a8-55f4a3198b4d",
   "metadata": {},
   "outputs": [],
   "source": [
    "mk = fileList[0]\n",
    "file_path = './result_set/nodes_3000_8_repeat_100/%s.pkl' % mk\n",
    "with open(file_path, 'rb') as f:\n",
    "    a = pickle.load(f)\n",
    "\n",
    "result = a['result']\n",
    "gg = a['structure']"
   ]
  },
  {
   "cell_type": "code",
   "execution_count": null,
   "id": "51592231-d049-4fa5-ac6c-29d8f45a5b84",
   "metadata": {},
   "outputs": [],
   "source": [
    "accuray_degree = dict()\n",
    "for gammax in ['1.6','2.4']:\n",
    "    accuray_degree[gammax] = binary_matrix(gg[gammax],result[1][gammax])\n",
    "\n",
    "del a, result\n",
    "gc.collect()"
   ]
  },
  {
   "cell_type": "code",
   "execution_count": null,
   "id": "459f1ba7-ebba-4304-a91f-cbd3a90bf618",
   "metadata": {},
   "outputs": [],
   "source": [
    "file_path = './index_set/nodes_3000_8_repeat_100/%s.pkl' % 'accuracy_degree'\n",
    "with open(file_path, 'wb') as f:\n",
    "    pickle.dump(accuray_degree, f)"
   ]
  },
  {
   "cell_type": "markdown",
   "id": "1b793834-3707-4fe4-a6f7-24f94a0f0332",
   "metadata": {},
   "source": [
    "# empirical network"
   ]
  },
  {
   "cell_type": "code",
   "execution_count": null,
   "id": "90bd5c50-3a65-4aa6-acd3-28425d3101ea",
   "metadata": {},
   "outputs": [],
   "source": [
    "directory = './result_set/empirical_network/'\n",
    "fileType= '.pkl'\n",
    "fileList = SearchFiles(directory, fileType)\n",
    "print(fileList)"
   ]
  },
  {
   "cell_type": "code",
   "execution_count": null,
   "id": "6d33f923-4e34-47de-9862-4d556e6d43aa",
   "metadata": {},
   "outputs": [],
   "source": [
    "index_empirical = dict()\n",
    "ground_truth_empirical = dict()\n",
    "fileList.remove('ground_truth')\n",
    "fileList.remove('index')\n",
    "for mk in fileList:\n",
    "    file_path = './index_set/empirical_network/%s.pkl' % mk\n",
    "    with open(file_path, 'rb') as f:\n",
    "        a = pickle.load(f)\n",
    "    ground_truth_empirical[mk] = a['structure']\n",
    "    index_empirical[mk] = calculate_all_index(a['result'][2])\n",
    "    del a\n",
    "    gc.collect()"
   ]
  },
  {
   "cell_type": "code",
   "execution_count": null,
   "id": "42bb9b2b-4508-4139-b53d-73b376e0fe6a",
   "metadata": {},
   "outputs": [],
   "source": [
    "file_path = './index_set/empirical_network/%s.pkl' % 'ground_truth'\n",
    "    \n",
    "with open(file_path, 'wb') as f:\n",
    "    pickle.dump(ground_truth_empirical, f)\n",
    "    \n",
    "file_path = './index_set/empirical_network/%s.pkl' % 'index'\n",
    "    \n",
    "with open(file_path, 'wb') as f:\n",
    "    pickle.dump(index_empirical, f)"
   ]
  }
 ],
 "metadata": {
  "kernelspec": {
   "display_name": "Python 3 (ipykernel)",
   "language": "python",
   "name": "python3"
  },
  "language_info": {
   "codemirror_mode": {
    "name": "ipython",
    "version": 3
   },
   "file_extension": ".py",
   "mimetype": "text/x-python",
   "name": "python",
   "nbconvert_exporter": "python",
   "pygments_lexer": "ipython3",
   "version": "3.11.8"
  }
 },
 "nbformat": 4,
 "nbformat_minor": 5
}
