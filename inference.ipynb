{
 "cells": [
  {
   "cell_type": "code",
   "execution_count": 13,
   "id": "bdcdde75-3d15-46fa-8419-f29285cc3e85",
   "metadata": {
    "execution": {
     "iopub.execute_input": "2024-12-30T15:33:32.243821Z",
     "iopub.status.busy": "2024-12-30T15:33:32.243343Z",
     "iopub.status.idle": "2024-12-30T15:33:32.262155Z",
     "shell.execute_reply": "2024-12-30T15:33:32.261348Z",
     "shell.execute_reply.started": "2024-12-30T15:33:32.243785Z"
    }
   },
   "outputs": [
    {
     "data": {
      "text/plain": [
       "<module 'main_function' from '/home/qinjiajie/jupyter_code/AUC_upload/main_function.py'>"
      ]
     },
     "execution_count": 13,
     "metadata": {},
     "output_type": "execute_result"
    }
   ],
   "source": [
    "import os\n",
    "import gzip\n",
    "from scipy import stats\n",
    "import numpy as np\n",
    "from multiprocessing import Pool\n",
    "from tqdm import tqdm\n",
    "import networkx as nx\n",
    "from sklearn.metrics import roc_curve, auc, f1_score\n",
    "import pandas as pd\n",
    "import matplotlib.pyplot as plt\n",
    "import scienceplots\n",
    "import requests\n",
    "import pickle\n",
    "import powerlaw\n",
    "import gc\n",
    "import math\n",
    "import random\n",
    "\n",
    "from main_function import *\n",
    "import main_function\n",
    "from importlib import reload\n",
    "reload(main_function)"
   ]
  },
  {
   "cell_type": "markdown",
   "id": "51f7f036-2d5b-4542-a2b1-2868daa16233",
   "metadata": {
    "jp-MarkdownHeadingCollapsed": true
   },
   "source": [
    "# n=3000, L=4500 as an example"
   ]
  },
  {
   "cell_type": "markdown",
   "id": "3c59c615-cc95-4086-b200-e1ab69af48e4",
   "metadata": {},
   "source": [
    "## generating ground-truth"
   ]
  },
  {
   "cell_type": "code",
   "execution_count": 2,
   "id": "7a219d00-ef91-4a19-80eb-b2b10a767dd8",
   "metadata": {
    "execution": {
     "iopub.execute_input": "2024-10-16T11:03:57.023493Z",
     "iopub.status.busy": "2024-10-16T11:03:57.022950Z",
     "iopub.status.idle": "2024-10-16T11:04:39.326690Z",
     "shell.execute_reply": "2024-10-16T11:04:39.325952Z",
     "shell.execute_reply.started": "2024-10-16T11:03:57.023448Z"
    },
    "scrolled": true
   },
   "outputs": [
    {
     "name": "stdout",
     "output_type": "stream",
     "text": [
      "Calculating best minimal value for power law fit\n",
      "gamma=1.6 complete\n",
      "Calculating best minimal value for power law fit\n",
      "gamma=1.8 complete\n",
      "Calculating best minimal value for power law fit\n",
      "gamma=2.0 complete\n",
      "Calculating best minimal value for power law fit\n",
      "gamma=2.2 complete\n",
      "Calculating best minimal value for power law fit\n",
      "gamma=2.4 complete\n",
      "Calculating best minimal value for power law fit\n",
      "gamma=1.6 complete\n",
      "Calculating best minimal value for power law fit\n",
      "gamma=1.8 complete\n",
      "Calculating best minimal value for power law fit\n",
      "gamma=2.0 complete\n",
      "Calculating best minimal value for power law fit\n",
      "gamma=2.2 complete\n",
      "Calculating best minimal value for power law fit\n",
      "gamma=2.4 complete\n",
      "Calculating best minimal value for power law fit\n",
      "gamma=1.6 complete\n",
      "Calculating best minimal value for power law fit\n",
      "gamma=1.8 complete\n",
      "Calculating best minimal value for power law fit\n",
      "gamma=2.0 complete\n",
      "Calculating best minimal value for power law fit\n",
      "gamma=2.2 complete\n",
      "Calculating best minimal value for power law fit\n",
      "gamma=2.4 complete\n",
      "Calculating best minimal value for power law fit\n",
      "gamma=1.6 complete\n",
      "Calculating best minimal value for power law fit\n",
      "gamma=1.8 complete\n",
      "Calculating best minimal value for power law fit\n",
      "gamma=2.0 complete\n",
      "Calculating best minimal value for power law fit\n",
      "gamma=2.2 complete\n",
      "Calculating best minimal value for power law fit\n",
      "gamma=2.4 complete\n",
      "Calculating best minimal value for power law fit\n",
      "gamma=1.6 complete\n",
      "Calculating best minimal value for power law fit\n",
      "Calculating best minimal value for power law fit\n",
      "Calculating best minimal value for power law fit\n",
      "Calculating best minimal value for power law fit\n",
      "Calculating best minimal value for power law fit\n",
      "gamma=1.8 complete\n",
      "Calculating best minimal value for power law fit\n",
      "gamma=2.0 complete\n",
      "Calculating best minimal value for power law fit\n",
      "gamma=2.2 complete\n",
      "Calculating best minimal value for power law fit\n",
      "gamma=2.4 complete\n",
      "Calculating best minimal value for power law fit\n",
      "gamma=1.7 complete\n",
      "Calculating best minimal value for power law fit\n",
      "gamma=1.9 complete\n",
      "Calculating best minimal value for power law fit\n",
      "gamma=2.1 complete\n",
      "Calculating best minimal value for power law fit\n",
      "gamma=2.3 complete\n",
      "Calculating best minimal value for power law fit\n",
      "gamma=2.5 complete\n",
      "Calculating best minimal value for power law fit\n",
      "gamma=1.7 complete\n",
      "Calculating best minimal value for power law fit\n",
      "gamma=1.9 complete\n",
      "Calculating best minimal value for power law fit\n",
      "gamma=2.1 complete\n",
      "Calculating best minimal value for power law fit\n",
      "gamma=2.3 complete\n",
      "Calculating best minimal value for power law fit\n",
      "gamma=2.5 complete\n",
      "Calculating best minimal value for power law fit\n",
      "gamma=1.7 complete\n",
      "Calculating best minimal value for power law fit\n",
      "gamma=1.9 complete\n",
      "Calculating best minimal value for power law fit\n",
      "gamma=2.1 complete\n",
      "Calculating best minimal value for power law fit\n",
      "gamma=2.3 complete\n",
      "Calculating best minimal value for power law fit\n",
      "Calculating best minimal value for power law fit\n",
      "gamma=2.5 complete\n",
      "Calculating best minimal value for power law fit\n",
      "gamma=1.7 complete\n",
      "Calculating best minimal value for power law fit\n",
      "gamma=1.9 complete\n",
      "Calculating best minimal value for power law fit\n",
      "gamma=2.1 complete\n",
      "Calculating best minimal value for power law fit\n",
      "gamma=2.3 complete\n",
      "Calculating best minimal value for power law fit\n",
      "gamma=2.5 complete\n",
      "Calculating best minimal value for power law fit\n",
      "gamma=1.7 complete\n",
      "Calculating best minimal value for power law fit\n",
      "gamma=1.9 complete\n",
      "Calculating best minimal value for power law fit\n",
      "gamma=2.1 complete\n",
      "Calculating best minimal value for power law fit\n",
      "gamma=2.3 complete\n",
      "Calculating best minimal value for power law fit\n",
      "gamma=2.5 complete\n"
     ]
    }
   ],
   "source": [
    "nodes = 3000\n",
    "md = 3\n",
    "\n",
    "ga_inde = np.array(list(range(160, 260, 20))) / 100\n",
    "\n",
    "ground_truth = dict()\n",
    "\n",
    "for k in range(5):\n",
    "    z=0\n",
    "    gg = dict()\n",
    "    for ga in ga_inde:\n",
    "        uu = generate_ground_nograph(nodes, ga,md,z)\n",
    "        G_temp  = uu[0]\n",
    "        z = uu[1]\n",
    "        gg['%s' %ga] = G_temp\n",
    "        print('gamma=%s complete' % ga)\n",
    "    ground_truth['%s' % k] = gg\n",
    "\n",
    "ga_inde = np.array(list(range(170, 270, 20))) / 100\n",
    "\n",
    "for k in range(5,10,1):\n",
    "    z=0\n",
    "    gg = dict()\n",
    "    for ga in ga_inde:\n",
    "        uu = generate_ground_nograph(nodes, ga,md,z)\n",
    "        G_temp  = uu[0]\n",
    "        z = uu[1]\n",
    "        gg['%s' %ga] = G_temp\n",
    "        print('gamma=%s complete' % ga)\n",
    "    ground_truth['%s' % k] = gg"
   ]
  },
  {
   "cell_type": "code",
   "execution_count": 4,
   "id": "fb13132e-192a-43db-981b-ede196a0f204",
   "metadata": {
    "execution": {
     "iopub.execute_input": "2024-10-16T11:08:35.558680Z",
     "iopub.status.busy": "2024-10-16T11:08:35.558105Z",
     "iopub.status.idle": "2024-10-16T11:08:35.790848Z",
     "shell.execute_reply": "2024-10-16T11:08:35.790047Z",
     "shell.execute_reply.started": "2024-10-16T11:08:35.558618Z"
    }
   },
   "outputs": [],
   "source": [
    "file_path = './result_set/ground_truth_3000_3.pkl'\n",
    "with open(file_path, 'wb') as f:\n",
    "    pickle.dump(ground_truth, f)"
   ]
  },
  {
   "cell_type": "markdown",
   "id": "12df8257-63d6-4b9c-a01b-2f8a06b63598",
   "metadata": {},
   "source": [
    "## inference"
   ]
  },
  {
   "cell_type": "code",
   "execution_count": 5,
   "id": "f4c87c46-c0cc-47e4-bd6a-094f502f8167",
   "metadata": {
    "execution": {
     "iopub.execute_input": "2024-10-16T11:09:36.121919Z",
     "iopub.status.busy": "2024-10-16T11:09:36.121384Z",
     "iopub.status.idle": "2024-10-16T11:09:36.566423Z",
     "shell.execute_reply": "2024-10-16T11:09:36.565478Z",
     "shell.execute_reply.started": "2024-10-16T11:09:36.121864Z"
    }
   },
   "outputs": [],
   "source": [
    "file_path = './result_set/ground_truth_3000_3.pkl'\n",
    "with open(file_path, 'rb') as f:\n",
    "    ground_truth = pickle.load(f)"
   ]
  },
  {
   "cell_type": "code",
   "execution_count": null,
   "id": "0efbfaf9-cf0d-4311-93b3-837747876358",
   "metadata": {},
   "outputs": [],
   "source": [
    "M=10\n",
    "alpha=0.5\n",
    "beta=0.3\n",
    "# result1 = dict()\n",
    "\n",
    "for mk in list(ground_truth.keys())[:1]:\n",
    "    a = dict()\n",
    "    a_s = parallel_calculation(ground_truth[mk],M,alpha,beta)\n",
    "    a['structure'] = ground_truth[mk]\n",
    "    a['result'] = a_s\n",
    "    file_path = './result_set/nodes_3000_3/%s.pkl' % mk\n",
    "    \n",
    "    with open(file_path, 'wb') as f:\n",
    "        pickle.dump(a, f)\n",
    "    del a, a_s\n",
    "    gc.collect()"
   ]
  },
  {
   "cell_type": "markdown",
   "id": "b520bc55-f64e-4d97-b5e2-f71609e75aed",
   "metadata": {
    "jp-MarkdownHeadingCollapsed": true
   },
   "source": [
    "# repeating 100 times to get the ratio of accurate inference"
   ]
  },
  {
   "cell_type": "code",
   "execution_count": null,
   "id": "06fc448e-4fce-4bbb-942f-d35ff83dbfda",
   "metadata": {},
   "outputs": [],
   "source": [
    "file_path = './result_set/ground_truth_3000_8.pkl'\n",
    "with open(file_path, 'rb') as f:\n",
    "    ground_truth = pickle.load(f)"
   ]
  },
  {
   "cell_type": "code",
   "execution_count": null,
   "id": "1da96a78-8f4f-491c-a15d-6c0d366e0fc2",
   "metadata": {},
   "outputs": [],
   "source": [
    "M=10\n",
    "alpha=0.5\n",
    "beta=0.3\n",
    "# result1 = dict()\n",
    "for mk in [list(ground_truth.keys())[0],list(ground_truth.keys())[5]]:\n",
    "    a = dict()\n",
    "    a_s = parallel_calculation_100(ground_truth[mk],M,alpha,beta)\n",
    "    a['structure'] = ground_truth[mk]\n",
    "    a['result'] = a_s\n",
    "    file_path = './result_set/nodes_3000_8_repeat_100/%s.pkl' % mk\n",
    "    \n",
    "    with open(file_path, 'wb') as f:\n",
    "        pickle.dump(a, f)\n",
    "    del a, a_s\n",
    "    gc.collect()"
   ]
  },
  {
   "cell_type": "markdown",
   "id": "fbfef7cf-67f3-4c86-9b0f-1875dd87c760",
   "metadata": {
    "execution": {
     "iopub.execute_input": "2024-10-16T12:11:43.390412Z",
     "iopub.status.busy": "2024-10-16T12:11:43.389874Z",
     "iopub.status.idle": "2024-10-16T12:11:43.395598Z",
     "shell.execute_reply": "2024-10-16T12:11:43.394279Z",
     "shell.execute_reply.started": "2024-10-16T12:11:43.390370Z"
    }
   },
   "source": [
    "# empirical network"
   ]
  },
  {
   "cell_type": "code",
   "execution_count": 14,
   "id": "e39e9432-a819-4cf0-95a6-4834aa388247",
   "metadata": {
    "execution": {
     "iopub.execute_input": "2024-12-30T15:33:34.960753Z",
     "iopub.status.busy": "2024-12-30T15:33:34.960286Z",
     "iopub.status.idle": "2024-12-30T15:33:34.966589Z",
     "shell.execute_reply": "2024-12-30T15:33:34.965597Z",
     "shell.execute_reply.started": "2024-12-30T15:33:34.960718Z"
    }
   },
   "outputs": [],
   "source": [
    "def SearchFiles(directory, fileType):      \n",
    "    fileList=[]    \n",
    "    for root, subDirs, files in os.walk(directory):\n",
    "        for fileName in files:\n",
    "            if fileName.endswith(fileType):\n",
    "                fileList.append(os.path.join(root,fileName))\n",
    "    return fileList"
   ]
  },
  {
   "cell_type": "code",
   "execution_count": 15,
   "id": "f107e3d7-6897-4b58-b4c0-2ec34e000835",
   "metadata": {
    "execution": {
     "iopub.execute_input": "2024-12-30T15:33:37.532658Z",
     "iopub.status.busy": "2024-12-30T15:33:37.532145Z",
     "iopub.status.idle": "2024-12-30T15:33:38.726914Z",
     "shell.execute_reply": "2024-12-30T15:33:38.726284Z",
     "shell.execute_reply.started": "2024-12-30T15:33:37.532620Z"
    },
    "scrolled": true
   },
   "outputs": [
    {
     "name": "stdout",
     "output_type": "stream",
     "text": [
      "28\n",
      "False\n",
      "False\n",
      "False\n",
      "False\n",
      "False\n",
      "False\n",
      "False\n",
      "False\n",
      "False\n",
      "False\n",
      "False\n",
      "False\n",
      "False\n",
      "False\n",
      "False\n",
      "False\n",
      "False\n",
      "False\n",
      "False\n",
      "False\n",
      "False\n",
      "False\n",
      "False\n",
      "False\n",
      "False\n",
      "False\n",
      "False\n",
      "False\n",
      "['./result_set/empirical_network/data_set/maayan-Stelzl/maayan-Stelzl.txt', './result_set/empirical_network/data_set/mouse-kasthuri/bn-mouse-kasthuri_graph_v4.txt']\n",
      "False\n",
      "False\n"
     ]
    }
   ],
   "source": [
    "real_data_set = dict()\n",
    "directory = './result_set/empirical_network/data_set/'\n",
    "fileType= 'edges.csv'\n",
    "fileList = SearchFiles(directory, fileType)\n",
    "print(len(fileList))\n",
    "\n",
    "k = 0\n",
    "for i in fileList:\n",
    "    df = pd.read_csv(i)\n",
    "    G = nx.from_pandas_edgelist(df, df.columns[0], df.columns[1])\n",
    "    isolated_nodes = list(nx.isolates(G))\n",
    "    G.remove_nodes_from(isolated_nodes)\n",
    "    real_data_set['%s' % k] = G\n",
    "    print(G.is_directed())\n",
    "    k = k+1\n",
    "\n",
    "fileType= '.txt'\n",
    "fileList1 = SearchFiles(directory, fileType)\n",
    "print(fileList1)\n",
    "\n",
    "for i in fileList1:\n",
    "    G = nx.read_edgelist(i, nodetype=int, create_using=nx.Graph())\n",
    "    isolated_nodes = list(nx.isolates(G))\n",
    "    G.remove_nodes_from(isolated_nodes)\n",
    "    real_data_set['%s' % k] = G\n",
    "    print(G.is_directed())\n",
    "    k = k+1"
   ]
  },
  {
   "cell_type": "code",
   "execution_count": 16,
   "id": "080e2217-4506-4bb7-8ae1-770de355d6e6",
   "metadata": {
    "execution": {
     "iopub.execute_input": "2024-12-30T15:33:42.826927Z",
     "iopub.status.busy": "2024-12-30T15:33:42.826452Z",
     "iopub.status.idle": "2024-12-30T15:33:42.831194Z",
     "shell.execute_reply": "2024-12-30T15:33:42.830203Z",
     "shell.execute_reply.started": "2024-12-30T15:33:42.826890Z"
    }
   },
   "outputs": [],
   "source": [
    "fL = fileList + fileList1"
   ]
  },
  {
   "cell_type": "code",
   "execution_count": 17,
   "id": "69ecd452-f892-43e9-af0e-7a888eaad0d7",
   "metadata": {
    "execution": {
     "iopub.execute_input": "2024-12-30T15:33:44.147133Z",
     "iopub.status.busy": "2024-12-30T15:33:44.146316Z",
     "iopub.status.idle": "2024-12-30T15:33:44.152529Z",
     "shell.execute_reply": "2024-12-30T15:33:44.151529Z",
     "shell.execute_reply.started": "2024-12-30T15:33:44.147096Z"
    }
   },
   "outputs": [],
   "source": [
    "import re\n",
    "\n",
    "def extract_between_slashes(s):\n",
    "    # 使用正则表达式匹配第二个斜杠到第三个斜杠之间的字符\n",
    "    match = re.search(r'\\/[^\\/]+\\/[^\\/]+\\/[^\\/]+\\/([^\\/]+)\\/', s)\n",
    "    if match:\n",
    "        # 获取匹配到的部分，并去掉.csv\n",
    "        result = match.group(1).replace('.csv', '')\n",
    "        return result\n",
    "    return None"
   ]
  },
  {
   "cell_type": "code",
   "execution_count": 18,
   "id": "aedcda55-af84-4fac-9d9d-0051d52cbc23",
   "metadata": {
    "execution": {
     "iopub.execute_input": "2024-12-30T15:33:45.582245Z",
     "iopub.status.busy": "2024-12-30T15:33:45.581859Z",
     "iopub.status.idle": "2024-12-30T15:33:45.687457Z",
     "shell.execute_reply": "2024-12-30T15:33:45.686732Z",
     "shell.execute_reply.started": "2024-12-30T15:33:45.582210Z"
    }
   },
   "outputs": [],
   "source": [
    "real_data_information = pd.DataFrame(columns=['Name', 'Network size', 'Mean degree', 'Degree heterogeneity'])\n",
    "degree_hete = degree_heterogeneity(real_data_set)\n",
    "mean_de = read_mean_degree(real_data_set)\n",
    "for i in range(len(fL)):\n",
    "    real_data_information.loc[i] = [extract_between_slashes(fL[i]), real_data_set['%s' % i].number_of_nodes(), mean_de[i], degree_hete[i]]"
   ]
  },
  {
   "cell_type": "code",
   "execution_count": 19,
   "id": "1df179b7-57e0-489a-8499-49823601332e",
   "metadata": {
    "execution": {
     "iopub.execute_input": "2024-12-30T15:33:47.328137Z",
     "iopub.status.busy": "2024-12-30T15:33:47.327695Z",
     "iopub.status.idle": "2024-12-30T15:33:47.344961Z",
     "shell.execute_reply": "2024-12-30T15:33:47.344069Z",
     "shell.execute_reply.started": "2024-12-30T15:33:47.328104Z"
    },
    "scrolled": true
   },
   "outputs": [
    {
     "data": {
      "text/html": [
       "<div>\n",
       "<style scoped>\n",
       "    .dataframe tbody tr th:only-of-type {\n",
       "        vertical-align: middle;\n",
       "    }\n",
       "\n",
       "    .dataframe tbody tr th {\n",
       "        vertical-align: top;\n",
       "    }\n",
       "\n",
       "    .dataframe thead th {\n",
       "        text-align: right;\n",
       "    }\n",
       "</style>\n",
       "<table border=\"1\" class=\"dataframe\">\n",
       "  <thead>\n",
       "    <tr style=\"text-align: right;\">\n",
       "      <th></th>\n",
       "      <th>Name</th>\n",
       "      <th>Network size</th>\n",
       "      <th>Mean degree</th>\n",
       "      <th>Degree heterogeneity</th>\n",
       "    </tr>\n",
       "  </thead>\n",
       "  <tbody>\n",
       "    <tr>\n",
       "      <th>0</th>\n",
       "      <td>4950</td>\n",
       "      <td>1246</td>\n",
       "      <td>7.054575</td>\n",
       "      <td>8.534731</td>\n",
       "    </tr>\n",
       "    <tr>\n",
       "      <th>1</th>\n",
       "      <td>aae</td>\n",
       "      <td>926</td>\n",
       "      <td>5.064795</td>\n",
       "      <td>26.484459</td>\n",
       "    </tr>\n",
       "    <tr>\n",
       "      <th>2</th>\n",
       "      <td>afu</td>\n",
       "      <td>909</td>\n",
       "      <td>4.528053</td>\n",
       "      <td>24.763006</td>\n",
       "    </tr>\n",
       "    <tr>\n",
       "      <th>3</th>\n",
       "      <td>ana</td>\n",
       "      <td>1362</td>\n",
       "      <td>5.287812</td>\n",
       "      <td>43.939069</td>\n",
       "    </tr>\n",
       "    <tr>\n",
       "      <th>4</th>\n",
       "      <td>ape</td>\n",
       "      <td>805</td>\n",
       "      <td>4.698137</td>\n",
       "      <td>21.555168</td>\n",
       "    </tr>\n",
       "    <tr>\n",
       "      <th>5</th>\n",
       "      <td>atu</td>\n",
       "      <td>1593</td>\n",
       "      <td>5.490270</td>\n",
       "      <td>55.083478</td>\n",
       "    </tr>\n",
       "    <tr>\n",
       "      <th>6</th>\n",
       "      <td>chilean_power_grid</td>\n",
       "      <td>218</td>\n",
       "      <td>4.834862</td>\n",
       "      <td>4.688857</td>\n",
       "    </tr>\n",
       "    <tr>\n",
       "      <th>7</th>\n",
       "      <td>cje</td>\n",
       "      <td>851</td>\n",
       "      <td>5.052879</td>\n",
       "      <td>25.311307</td>\n",
       "    </tr>\n",
       "    <tr>\n",
       "      <th>8</th>\n",
       "      <td>dme</td>\n",
       "      <td>1372</td>\n",
       "      <td>5.345481</td>\n",
       "      <td>43.958310</td>\n",
       "    </tr>\n",
       "    <tr>\n",
       "      <th>9</th>\n",
       "      <td>fy</td>\n",
       "      <td>729</td>\n",
       "      <td>1.980796</td>\n",
       "      <td>33.341919</td>\n",
       "    </tr>\n",
       "    <tr>\n",
       "      <th>10</th>\n",
       "      <td>HS</td>\n",
       "      <td>866</td>\n",
       "      <td>5.847575</td>\n",
       "      <td>10.587654</td>\n",
       "    </tr>\n",
       "    <tr>\n",
       "      <th>11</th>\n",
       "      <td>hsa</td>\n",
       "      <td>1917</td>\n",
       "      <td>6.079291</td>\n",
       "      <td>69.204560</td>\n",
       "    </tr>\n",
       "    <tr>\n",
       "      <th>12</th>\n",
       "      <td>interactome_vidal</td>\n",
       "      <td>3133</td>\n",
       "      <td>4.293648</td>\n",
       "      <td>11.034927</td>\n",
       "    </tr>\n",
       "    <tr>\n",
       "      <th>13</th>\n",
       "      <td>LT_2011</td>\n",
       "      <td>1569</td>\n",
       "      <td>4.274060</td>\n",
       "      <td>19.969602</td>\n",
       "    </tr>\n",
       "    <tr>\n",
       "      <th>14</th>\n",
       "      <td>mma</td>\n",
       "      <td>1008</td>\n",
       "      <td>4.748016</td>\n",
       "      <td>28.442958</td>\n",
       "    </tr>\n",
       "    <tr>\n",
       "      <th>15</th>\n",
       "      <td>network</td>\n",
       "      <td>2939</td>\n",
       "      <td>5.936033</td>\n",
       "      <td>19.373838</td>\n",
       "    </tr>\n",
       "    <tr>\n",
       "      <th>16</th>\n",
       "      <td>nma</td>\n",
       "      <td>1017</td>\n",
       "      <td>5.140610</td>\n",
       "      <td>29.370484</td>\n",
       "    </tr>\n",
       "    <tr>\n",
       "      <th>17</th>\n",
       "      <td>plant_pol_kato</td>\n",
       "      <td>770</td>\n",
       "      <td>3.132468</td>\n",
       "      <td>27.388262</td>\n",
       "    </tr>\n",
       "    <tr>\n",
       "      <th>18</th>\n",
       "      <td>rno</td>\n",
       "      <td>1646</td>\n",
       "      <td>5.739976</td>\n",
       "      <td>62.345545</td>\n",
       "    </tr>\n",
       "    <tr>\n",
       "      <th>19</th>\n",
       "      <td>sam</td>\n",
       "      <td>1073</td>\n",
       "      <td>5.431500</td>\n",
       "      <td>32.341320</td>\n",
       "    </tr>\n",
       "    <tr>\n",
       "      <th>20</th>\n",
       "      <td>SITC</td>\n",
       "      <td>774</td>\n",
       "      <td>4.596899</td>\n",
       "      <td>7.807823</td>\n",
       "    </tr>\n",
       "    <tr>\n",
       "      <th>21</th>\n",
       "      <td>SI_2011</td>\n",
       "      <td>1651</td>\n",
       "      <td>4.230164</td>\n",
       "      <td>20.620638</td>\n",
       "    </tr>\n",
       "    <tr>\n",
       "      <th>22</th>\n",
       "      <td>sty</td>\n",
       "      <td>1547</td>\n",
       "      <td>5.529412</td>\n",
       "      <td>48.024481</td>\n",
       "    </tr>\n",
       "    <tr>\n",
       "      <th>23</th>\n",
       "      <td>tma</td>\n",
       "      <td>914</td>\n",
       "      <td>5.161926</td>\n",
       "      <td>27.284450</td>\n",
       "    </tr>\n",
       "    <tr>\n",
       "      <th>24</th>\n",
       "      <td>unicodelang</td>\n",
       "      <td>868</td>\n",
       "      <td>2.891705</td>\n",
       "      <td>15.652518</td>\n",
       "    </tr>\n",
       "    <tr>\n",
       "      <th>25</th>\n",
       "      <td>wbr</td>\n",
       "      <td>775</td>\n",
       "      <td>5.285161</td>\n",
       "      <td>25.184077</td>\n",
       "    </tr>\n",
       "    <tr>\n",
       "      <th>26</th>\n",
       "      <td>xac</td>\n",
       "      <td>1444</td>\n",
       "      <td>5.375346</td>\n",
       "      <td>47.839031</td>\n",
       "    </tr>\n",
       "    <tr>\n",
       "      <th>27</th>\n",
       "      <td>ypk</td>\n",
       "      <td>1452</td>\n",
       "      <td>5.453168</td>\n",
       "      <td>46.565271</td>\n",
       "    </tr>\n",
       "    <tr>\n",
       "      <th>28</th>\n",
       "      <td>maayan-Stelzl</td>\n",
       "      <td>1706</td>\n",
       "      <td>3.740914</td>\n",
       "      <td>13.045986</td>\n",
       "    </tr>\n",
       "    <tr>\n",
       "      <th>29</th>\n",
       "      <td>mouse-kasthuri</td>\n",
       "      <td>1029</td>\n",
       "      <td>3.030126</td>\n",
       "      <td>13.042997</td>\n",
       "    </tr>\n",
       "  </tbody>\n",
       "</table>\n",
       "</div>"
      ],
      "text/plain": [
       "                  Name  Network size  Mean degree  Degree heterogeneity\n",
       "0                 4950          1246     7.054575              8.534731\n",
       "1                  aae           926     5.064795             26.484459\n",
       "2                  afu           909     4.528053             24.763006\n",
       "3                  ana          1362     5.287812             43.939069\n",
       "4                  ape           805     4.698137             21.555168\n",
       "5                  atu          1593     5.490270             55.083478\n",
       "6   chilean_power_grid           218     4.834862              4.688857\n",
       "7                  cje           851     5.052879             25.311307\n",
       "8                  dme          1372     5.345481             43.958310\n",
       "9                   fy           729     1.980796             33.341919\n",
       "10                  HS           866     5.847575             10.587654\n",
       "11                 hsa          1917     6.079291             69.204560\n",
       "12   interactome_vidal          3133     4.293648             11.034927\n",
       "13             LT_2011          1569     4.274060             19.969602\n",
       "14                 mma          1008     4.748016             28.442958\n",
       "15             network          2939     5.936033             19.373838\n",
       "16                 nma          1017     5.140610             29.370484\n",
       "17      plant_pol_kato           770     3.132468             27.388262\n",
       "18                 rno          1646     5.739976             62.345545\n",
       "19                 sam          1073     5.431500             32.341320\n",
       "20                SITC           774     4.596899              7.807823\n",
       "21             SI_2011          1651     4.230164             20.620638\n",
       "22                 sty          1547     5.529412             48.024481\n",
       "23                 tma           914     5.161926             27.284450\n",
       "24         unicodelang           868     2.891705             15.652518\n",
       "25                 wbr           775     5.285161             25.184077\n",
       "26                 xac          1444     5.375346             47.839031\n",
       "27                 ypk          1452     5.453168             46.565271\n",
       "28       maayan-Stelzl          1706     3.740914             13.045986\n",
       "29      mouse-kasthuri          1029     3.030126             13.042997"
      ]
     },
     "execution_count": 19,
     "metadata": {},
     "output_type": "execute_result"
    }
   ],
   "source": [
    "real_data_information"
   ]
  },
  {
   "cell_type": "code",
   "execution_count": 20,
   "id": "35f96100-8b55-4a6c-8f19-b56da176a076",
   "metadata": {
    "execution": {
     "iopub.execute_input": "2024-12-30T15:35:01.105919Z",
     "iopub.status.busy": "2024-12-30T15:35:01.105434Z",
     "iopub.status.idle": "2024-12-30T15:35:01.112323Z",
     "shell.execute_reply": "2024-12-30T15:35:01.111477Z",
     "shell.execute_reply.started": "2024-12-30T15:35:01.105884Z"
    }
   },
   "outputs": [
    {
     "data": {
      "text/plain": [
       "30"
      ]
     },
     "execution_count": 20,
     "metadata": {},
     "output_type": "execute_result"
    }
   ],
   "source": [
    "ground_truth = dict()\n",
    "ground_truth['real_1008'] = real_data_set\n",
    "len(real_data_set)"
   ]
  },
  {
   "cell_type": "code",
   "execution_count": null,
   "id": "ffe1a042-5cfd-4394-aa89-ca751b10658b",
   "metadata": {},
   "outputs": [],
   "source": [
    "M=10\n",
    "alpha=0.5\n",
    "beta=0.3\n",
    "# result1 = dict()\n",
    "# ground_truth = true_hete_network\n",
    "for mk in list(ground_truth.keys()):\n",
    "    a = dict()\n",
    "    a_s = parallel_calculation(ground_truth[mk],M,alpha,beta)\n",
    "    a['structure'] = ground_truth[mk]\n",
    "    a['result'] = a_s\n",
    "    file_path = './result_set/empirical_network/%s.pkl' % mk\n",
    "    \n",
    "    with open(file_path, 'wb') as f:\n",
    "        pickle.dump(a, f)\n",
    "    del a, a_s\n",
    "    gc.collect()"
   ]
  }
 ],
 "metadata": {
  "kernelspec": {
   "display_name": "Python 3 (ipykernel)",
   "language": "python",
   "name": "python3"
  },
  "language_info": {
   "codemirror_mode": {
    "name": "ipython",
    "version": 3
   },
   "file_extension": ".py",
   "mimetype": "text/x-python",
   "name": "python",
   "nbconvert_exporter": "python",
   "pygments_lexer": "ipython3",
   "version": "3.11.8"
  }
 },
 "nbformat": 4,
 "nbformat_minor": 5
}
